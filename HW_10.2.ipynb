{
  "nbformat": 4,
  "nbformat_minor": 0,
  "metadata": {
    "colab": {
      "provenance": [],
      "gpuType": "T4"
    },
    "kernelspec": {
      "name": "python3",
      "display_name": "Python 3"
    },
    "language_info": {
      "name": "python"
    },
    "accelerator": "GPU"
  },
  "cells": [
    {
      "cell_type": "code",
      "execution_count": null,
      "metadata": {
        "id": "u3saudFkqhnk"
      },
      "outputs": [],
      "source": [
        "import numpy as np\n",
        "import tensorflow as tf\n",
        "from tensorflow import keras\n",
        "from tensorflow.keras.datasets import fashion_mnist\n",
        "from tensorflow.keras.applications import VGG16\n",
        "from tensorflow.keras.layers import Flatten, Dense, Dropout\n",
        "from keras.preprocessing.image import ImageDataGenerator\n",
        "from keras.models import Sequential\n",
        "from keras.optimizers import Adam\n",
        "from sklearn.model_selection import train_test_split\n",
        "import matplotlib.pyplot as plt\n",
        "from sklearn.metrics import classification_report\n",
        "from tensorflow.keras.regularizers import l2\n"
      ]
    },
    {
      "cell_type": "code",
      "source": [
        "# Завантаження та підготовка даних\n",
        "(x_train, y_train), (x_test, y_test) = fashion_mnist.load_data()\n",
        "\n",
        "x_train, x_test = x_train / 255.0, x_test / 255.0\n",
        "\n",
        "x_train, x_val, y_train, y_val = train_test_split(x_train, y_train, test_size=0.2, random_state=169)\n",
        "\n",
        "\n",
        "\n",
        "train_X = np.stack((x_train,) * 3, axis=-1)\n",
        "val_X = np.stack((x_val,) * 3, axis=-1)\n",
        "test_X = np.stack((x_test,) * 3, axis=-1)\n",
        "\n",
        "train_X = tf.image.resize(train_X, (48, 48))\n",
        "val_X = tf.image.resize(val_X, (48, 48))\n",
        "test_X = tf.image.resize(test_X, (48, 48))\n",
        "\n",
        "y_train = keras.utils.to_categorical(y_train, 10)\n",
        "y_val = keras.utils.to_categorical(y_val, 10)\n",
        "y_test = keras.utils.to_categorical(y_test, 10)\n"
      ],
      "metadata": {
        "id": "6qF4mBebqlHx",
        "colab": {
          "base_uri": "https://localhost:8080/"
        },
        "outputId": "86e05ebd-c76b-4741-8768-01c947521513"
      },
      "execution_count": null,
      "outputs": [
        {
          "output_type": "stream",
          "name": "stdout",
          "text": [
            "Downloading data from https://storage.googleapis.com/tensorflow/tf-keras-datasets/train-labels-idx1-ubyte.gz\n",
            "29515/29515 [==============================] - 0s 0us/step\n",
            "Downloading data from https://storage.googleapis.com/tensorflow/tf-keras-datasets/train-images-idx3-ubyte.gz\n",
            "26421880/26421880 [==============================] - 0s 0us/step\n",
            "Downloading data from https://storage.googleapis.com/tensorflow/tf-keras-datasets/t10k-labels-idx1-ubyte.gz\n",
            "5148/5148 [==============================] - 0s 0us/step\n",
            "Downloading data from https://storage.googleapis.com/tensorflow/tf-keras-datasets/t10k-images-idx3-ubyte.gz\n",
            "4422102/4422102 [==============================] - 0s 0us/step\n"
          ]
        }
      ]
    },
    {
      "cell_type": "code",
      "source": [
        "# Створення моделі VGG16 без верхніх повністю зв'язаних шарів\n",
        "base_model = VGG16(weights='imagenet', include_top=False, input_shape=(48, 48, 3))\n",
        "\n",
        "base_model.trainable = True\n",
        "set_trainable = False\n",
        "for layer in base_model.layers:\n",
        "    if layer.name == \"block5_conv1\":\n",
        "        set_trainable = True\n",
        "    if set_trainable:\n",
        "        layer.trainable = True\n",
        "    else:\n",
        "        layer.trainable = False\n",
        "\n",
        "base_model.summary()"
      ],
      "metadata": {
        "colab": {
          "base_uri": "https://localhost:8080/"
        },
        "id": "Xe4SKipsq3bf",
        "outputId": "3abf977a-8d1d-445d-c059-ce1a1c6c924c"
      },
      "execution_count": null,
      "outputs": [
        {
          "output_type": "stream",
          "name": "stdout",
          "text": [
            "Downloading data from https://storage.googleapis.com/tensorflow/keras-applications/vgg16/vgg16_weights_tf_dim_ordering_tf_kernels_notop.h5\n",
            "58889256/58889256 [==============================] - 1s 0us/step\n",
            "Model: \"vgg16\"\n",
            "_________________________________________________________________\n",
            " Layer (type)                Output Shape              Param #   \n",
            "=================================================================\n",
            " input_1 (InputLayer)        [(None, 48, 48, 3)]       0         \n",
            "                                                                 \n",
            " block1_conv1 (Conv2D)       (None, 48, 48, 64)        1792      \n",
            "                                                                 \n",
            " block1_conv2 (Conv2D)       (None, 48, 48, 64)        36928     \n",
            "                                                                 \n",
            " block1_pool (MaxPooling2D)  (None, 24, 24, 64)        0         \n",
            "                                                                 \n",
            " block2_conv1 (Conv2D)       (None, 24, 24, 128)       73856     \n",
            "                                                                 \n",
            " block2_conv2 (Conv2D)       (None, 24, 24, 128)       147584    \n",
            "                                                                 \n",
            " block2_pool (MaxPooling2D)  (None, 12, 12, 128)       0         \n",
            "                                                                 \n",
            " block3_conv1 (Conv2D)       (None, 12, 12, 256)       295168    \n",
            "                                                                 \n",
            " block3_conv2 (Conv2D)       (None, 12, 12, 256)       590080    \n",
            "                                                                 \n",
            " block3_conv3 (Conv2D)       (None, 12, 12, 256)       590080    \n",
            "                                                                 \n",
            " block3_pool (MaxPooling2D)  (None, 6, 6, 256)         0         \n",
            "                                                                 \n",
            " block4_conv1 (Conv2D)       (None, 6, 6, 512)         1180160   \n",
            "                                                                 \n",
            " block4_conv2 (Conv2D)       (None, 6, 6, 512)         2359808   \n",
            "                                                                 \n",
            " block4_conv3 (Conv2D)       (None, 6, 6, 512)         2359808   \n",
            "                                                                 \n",
            " block4_pool (MaxPooling2D)  (None, 3, 3, 512)         0         \n",
            "                                                                 \n",
            " block5_conv1 (Conv2D)       (None, 3, 3, 512)         2359808   \n",
            "                                                                 \n",
            " block5_conv2 (Conv2D)       (None, 3, 3, 512)         2359808   \n",
            "                                                                 \n",
            " block5_conv3 (Conv2D)       (None, 3, 3, 512)         2359808   \n",
            "                                                                 \n",
            " block5_pool (MaxPooling2D)  (None, 1, 1, 512)         0         \n",
            "                                                                 \n",
            "=================================================================\n",
            "Total params: 14714688 (56.13 MB)\n",
            "Trainable params: 7079424 (27.01 MB)\n",
            "Non-trainable params: 7635264 (29.13 MB)\n",
            "_________________________________________________________________\n"
          ]
        }
      ]
    },
    {
      "cell_type": "code",
      "source": [
        "#Препроцесинг\n",
        "datagen = ImageDataGenerator(\n",
        "    rotation_range=40,\n",
        "    width_shift_range=0.2,\n",
        "    height_shift_range=0.2,\n",
        "    shear_range=0.2,\n",
        "    zoom_range=0.2,\n",
        "    horizontal_flip=True,\n",
        "    fill_mode=\"nearest\"\n",
        ")\n",
        "datagen.fit(train_X)"
      ],
      "metadata": {
        "id": "BuYU4UfHsGH8"
      },
      "execution_count": null,
      "outputs": []
    },
    {
      "cell_type": "code",
      "source": [
        "#Створення мделі\n",
        "model = Sequential([\n",
        "   base_model,\n",
        "   Flatten(),\n",
        "   Dense(1024, activation=\"relu\", kernel_regularizer=l2(0.01)),\n",
        "   Dense(512, activation=\"relu\", kernel_regularizer=l2(0.01)),\n",
        "   Dense(10, activation=\"softmax\"),\n",
        "])\n",
        "\n",
        "model.compile(optimizer=Adam(learning_rate=0.001),\n",
        "              loss='categorical_crossentropy',\n",
        "              metrics=['accuracy'])\n",
        "\n",
        "model.summary()"
      ],
      "metadata": {
        "colab": {
          "base_uri": "https://localhost:8080/"
        },
        "id": "lrKaIepwsPp8",
        "outputId": "5bcc5476-752f-4423-e399-bfe775c3f73b"
      },
      "execution_count": null,
      "outputs": [
        {
          "output_type": "stream",
          "name": "stdout",
          "text": [
            "Model: \"sequential_1\"\n",
            "_________________________________________________________________\n",
            " Layer (type)                Output Shape              Param #   \n",
            "=================================================================\n",
            " vgg16 (Functional)          (None, 1, 1, 512)         14714688  \n",
            "                                                                 \n",
            " flatten_1 (Flatten)         (None, 512)               0         \n",
            "                                                                 \n",
            " dense_2 (Dense)             (None, 1024)              525312    \n",
            "                                                                 \n",
            " dense_3 (Dense)             (None, 512)               524800    \n",
            "                                                                 \n",
            " dense_4 (Dense)             (None, 10)                5130      \n",
            "                                                                 \n",
            "=================================================================\n",
            "Total params: 15769930 (60.16 MB)\n",
            "Trainable params: 8134666 (31.03 MB)\n",
            "Non-trainable params: 7635264 (29.13 MB)\n",
            "_________________________________________________________________\n"
          ]
        }
      ]
    },
    {
      "cell_type": "code",
      "source": [
        " #Навчання моделі\n",
        "history = model.fit(\n",
        "    datagen.flow(train_X, y_train, batch_size=256),\n",
        "    epochs=30,\n",
        "    validation_data=(val_X, y_val),\n",
        "    steps_per_epoch=len(train_X) // 256)"
      ],
      "metadata": {
        "colab": {
          "base_uri": "https://localhost:8080/"
        },
        "id": "xt7IV-npss1n",
        "outputId": "5095c9ba-f688-494b-a05d-4fcce41809a8"
      },
      "execution_count": null,
      "outputs": [
        {
          "output_type": "stream",
          "name": "stdout",
          "text": [
            "Epoch 1/30\n",
            "187/187 [==============================] - 52s 262ms/step - loss: 2.9098 - accuracy: 0.8800 - val_loss: 0.5988 - val_accuracy: 0.8911\n",
            "Epoch 2/30\n",
            "187/187 [==============================] - 48s 258ms/step - loss: 0.4437 - accuracy: 0.8882 - val_loss: 0.3417 - val_accuracy: 0.9003\n",
            "Epoch 3/30\n",
            "187/187 [==============================] - 48s 259ms/step - loss: 0.3554 - accuracy: 0.8886 - val_loss: 0.3417 - val_accuracy: 0.8928\n",
            "Epoch 4/30\n",
            "187/187 [==============================] - 48s 258ms/step - loss: 0.3436 - accuracy: 0.8885 - val_loss: 0.3198 - val_accuracy: 0.8987\n",
            "Epoch 5/30\n",
            "187/187 [==============================] - 48s 255ms/step - loss: 0.3342 - accuracy: 0.8886 - val_loss: 0.3179 - val_accuracy: 0.8964\n",
            "Epoch 6/30\n",
            "187/187 [==============================] - 49s 262ms/step - loss: 0.3218 - accuracy: 0.8925 - val_loss: 0.3066 - val_accuracy: 0.9005\n",
            "Epoch 7/30\n",
            "187/187 [==============================] - 48s 257ms/step - loss: 0.3181 - accuracy: 0.8921 - val_loss: 0.2830 - val_accuracy: 0.9084\n",
            "Epoch 8/30\n",
            "187/187 [==============================] - 49s 262ms/step - loss: 0.3125 - accuracy: 0.8936 - val_loss: 0.2818 - val_accuracy: 0.9081\n",
            "Epoch 9/30\n",
            "187/187 [==============================] - 49s 263ms/step - loss: 0.3091 - accuracy: 0.8947 - val_loss: 0.3214 - val_accuracy: 0.8974\n",
            "Epoch 10/30\n",
            "187/187 [==============================] - 48s 257ms/step - loss: 0.3126 - accuracy: 0.8923 - val_loss: 0.3082 - val_accuracy: 0.8999\n",
            "Epoch 11/30\n",
            "187/187 [==============================] - 49s 260ms/step - loss: 0.3018 - accuracy: 0.8957 - val_loss: 0.3469 - val_accuracy: 0.8850\n",
            "Epoch 12/30\n",
            "187/187 [==============================] - 48s 255ms/step - loss: 0.2985 - accuracy: 0.8980 - val_loss: 0.2862 - val_accuracy: 0.9012\n",
            "Epoch 13/30\n",
            "187/187 [==============================] - 48s 256ms/step - loss: 0.2975 - accuracy: 0.8956 - val_loss: 0.3027 - val_accuracy: 0.8925\n",
            "Epoch 14/30\n",
            "187/187 [==============================] - 47s 252ms/step - loss: 0.2891 - accuracy: 0.8995 - val_loss: 0.2977 - val_accuracy: 0.9016\n",
            "Epoch 15/30\n",
            "187/187 [==============================] - 48s 257ms/step - loss: 0.2852 - accuracy: 0.8988 - val_loss: 0.2895 - val_accuracy: 0.9037\n",
            "Epoch 16/30\n",
            "187/187 [==============================] - 49s 260ms/step - loss: 0.2887 - accuracy: 0.8983 - val_loss: 0.2892 - val_accuracy: 0.9021\n",
            "Epoch 17/30\n",
            "187/187 [==============================] - 50s 264ms/step - loss: 0.2864 - accuracy: 0.8990 - val_loss: 0.2820 - val_accuracy: 0.9034\n",
            "Epoch 18/30\n",
            "187/187 [==============================] - 49s 263ms/step - loss: 0.2858 - accuracy: 0.8987 - val_loss: 0.2735 - val_accuracy: 0.9084\n",
            "Epoch 19/30\n",
            "187/187 [==============================] - 49s 262ms/step - loss: 0.2782 - accuracy: 0.9020 - val_loss: 0.2719 - val_accuracy: 0.9053\n",
            "Epoch 20/30\n",
            "187/187 [==============================] - 56s 297ms/step - loss: 0.2802 - accuracy: 0.9007 - val_loss: 0.2749 - val_accuracy: 0.9089\n",
            "Epoch 21/30\n",
            "187/187 [==============================] - 49s 263ms/step - loss: 0.2782 - accuracy: 0.9012 - val_loss: 0.2751 - val_accuracy: 0.9082\n",
            "Epoch 22/30\n",
            "187/187 [==============================] - 49s 262ms/step - loss: 0.2734 - accuracy: 0.9026 - val_loss: 0.2831 - val_accuracy: 0.9062\n",
            "Epoch 23/30\n",
            "187/187 [==============================] - 48s 255ms/step - loss: 0.2724 - accuracy: 0.9029 - val_loss: 0.2831 - val_accuracy: 0.9057\n",
            "Epoch 24/30\n",
            "187/187 [==============================] - 47s 253ms/step - loss: 0.2745 - accuracy: 0.9040 - val_loss: 0.2779 - val_accuracy: 0.9085\n",
            "Epoch 25/30\n",
            "187/187 [==============================] - 48s 257ms/step - loss: 0.2692 - accuracy: 0.9048 - val_loss: 0.2651 - val_accuracy: 0.9097\n",
            "Epoch 26/30\n",
            "187/187 [==============================] - 47s 252ms/step - loss: 0.2670 - accuracy: 0.9054 - val_loss: 0.2728 - val_accuracy: 0.9067\n",
            "Epoch 27/30\n",
            "187/187 [==============================] - 48s 256ms/step - loss: 0.2682 - accuracy: 0.9026 - val_loss: 0.2770 - val_accuracy: 0.9075\n",
            "Epoch 28/30\n",
            "187/187 [==============================] - 48s 257ms/step - loss: 0.2665 - accuracy: 0.9051 - val_loss: 0.2725 - val_accuracy: 0.9093\n",
            "Epoch 29/30\n",
            "187/187 [==============================] - 48s 258ms/step - loss: 0.2634 - accuracy: 0.9059 - val_loss: 0.2835 - val_accuracy: 0.9056\n",
            "Epoch 30/30\n",
            "187/187 [==============================] - 48s 258ms/step - loss: 0.2655 - accuracy: 0.9044 - val_loss: 0.2738 - val_accuracy: 0.9072\n"
          ]
        }
      ]
    },
    {
      "cell_type": "code",
      "source": [
        "# Plots\n",
        "plt.figure(figsize=(12, 4))\n",
        "plt.subplot(1, 2, 1)\n",
        "plt.plot(history.history['accuracy'], label='Training set accuracy')\n",
        "plt.plot(history.history['val_accuracy'], label = 'Validation set accuracy')\n",
        "plt.xlabel('Epochs')\n",
        "plt.ylabel('Accuracy')\n",
        "plt.ylim([0, 1])\n",
        "plt.legend(loc='lower right')\n",
        "\n",
        "plt.subplot(1, 2, 2)\n",
        "plt.plot(history.history['loss'], label='Training set losses')\n",
        "plt.plot(history.history['val_loss'], label = 'Validation set losses')\n",
        "plt.xlabel('Epochs')\n",
        "plt.ylabel('Losses')\n",
        "plt.ylim([0, 2])\n",
        "plt.legend(loc='upper right')\n",
        "\n",
        "plt.show()"
      ],
      "metadata": {
        "colab": {
          "base_uri": "https://localhost:8080/",
          "height": 393
        },
        "id": "Cj-M5--oLWV_",
        "outputId": "1a4fab13-39f0-4e30-fbcb-ded54c8d4d51"
      },
      "execution_count": null,
      "outputs": [
        {
          "output_type": "display_data",
          "data": {
            "text/plain": [
              "<Figure size 1200x400 with 2 Axes>"
            ],
            "image/png": "[encoded data removed]"
          },
          "metadata": {}
        }
      ]
    },
    {
      "cell_type": "code",
      "source": [
        "# Evaluate the model on test data\n",
        "y_pred = model.predict(test_X)\n",
        "test_loss, test_acc = model.evaluate(test_X, y_test, verbose=1)\n",
        "print(f'\\nTest set accuracy: {test_acc * 100:.2f}%')"
      ],
      "metadata": {
        "colab": {
          "base_uri": "https://localhost:8080/"
        },
        "id": "2WpPPiakLt8K",
        "outputId": "1d7e7820-69b8-43fa-8239-493fa15ec73f"
      },
      "execution_count": null,
      "outputs": [
        {
          "output_type": "stream",
          "name": "stdout",
          "text": [
            "313/313 [==============================] - 4s 11ms/step\n",
            "313/313 [==============================] - 4s 12ms/step - loss: 0.2969 - accuracy: 0.9013\n",
            "\n",
            "Test set accuracy: 90.13%\n"
          ]
        }
      ]
    },
    {
      "cell_type": "code",
      "source": [
        "class_names = ['T-shirt/top', 'Trouser', 'Pullover', 'Dress', 'Coat', 'Sandal', 'Shirt', 'Sneaker', 'Bag', 'Ankle boot']\n",
        "\n",
        "report = classification_report(np.argmax(y_test, axis=1), y_pred.argmax(axis=1), target_names=class_names)\n",
        "print(\"Classification Report:\\n\")\n",
        "print(report)"
      ],
      "metadata": {
        "colab": {
          "base_uri": "https://localhost:8080/"
        },
        "id": "Pc1bpn7kUycP",
        "outputId": "bb884cfc-e0c5-469e-8ac8-3d1e984241b1"
      },
      "execution_count": null,
      "outputs": [
        {
          "output_type": "stream",
          "name": "stdout",
          "text": [
            "Classification Report:\n",
            "\n",
            "              precision    recall  f1-score   support\n",
            "\n",
            " T-shirt/top       0.82      0.88      0.85      1000\n",
            "     Trouser       0.99      0.98      0.99      1000\n",
            "    Pullover       0.82      0.89      0.85      1000\n",
            "       Dress       0.91      0.84      0.87      1000\n",
            "        Coat       0.87      0.81      0.84      1000\n",
            "      Sandal       0.99      0.97      0.98      1000\n",
            "       Shirt       0.73      0.72      0.72      1000\n",
            "     Sneaker       0.94      0.97      0.96      1000\n",
            "         Bag       0.98      0.99      0.99      1000\n",
            "  Ankle boot       0.98      0.96      0.97      1000\n",
            "\n",
            "    accuracy                           0.90     10000\n",
            "   macro avg       0.90      0.90      0.90     10000\n",
            "weighted avg       0.90      0.90      0.90     10000\n",
            "\n"
          ]
        }
      ]
    },
    {
      "cell_type": "markdown",
      "source": [
        "##Точність (Precision) для кожного класу:\n",
        "\n",
        "Найвища точність спостерігається для класів \"Trouser\" (99%), \"Sandal\" (99%), \"Bag\" (98%), \"Ankle boot\" (98%), \"Sneaker\" (94%) і \"Dress\" (91%),  що свідчить про добре розпізнавання цих класів моделлю.\n",
        "\n",
        "\n",
        "Клас \"Coat\" (88%) також має хорошу точність, але меншу, ніж вищеназвані класи.\n",
        "\n",
        "\n",
        "Класи \"T-shirt/top\" (82%), \"Pullover\" (82%), і \"Shirt\" (73%) мають меншу точність, і модель робить більше помилок при розпізнаванні цих класів.\n",
        "\n",
        "\n",
        "##Повнота (Recall) для кожного класу:\n",
        "\n",
        "Класи \"Trouser\" (98%), \"Sandal\" (97%), \"Sneaker\" (97%), \"Bag\" (99%), і \"Ankle boot\" (96%) мають високу повноту, що означає, що модель добре розпізнає екземпляри цих класів.\n",
        "\n",
        "\n",
        "Класи \"Dress\" (84%), \"T-shirt/top\" (88%), \"Pullover\" (89%), і \"Coat\" (81%) також мають досить високу повноту, але меншу, ніж вищеназвані класи.\n",
        "\n",
        "\n",
        "Клас \"Shirt\" (72%) має найменшу повноту серед усіх класів, що означає, що модель помиляється при визначенні більшості зразків цього класу.\n",
        "\n",
        "\n",
        "##F1-рівень (F1-Score):\n",
        "\n",
        "Загальний F1-рівень для моделі на тестовому наборі становить 0,91, що свідчить про добрі результати класифікації.\n",
        "\n",
        "\n",
        "Класи з високими F1-рівнями включають \"Trouser\" (99%), \"Sandal\" (98%), \"Bag\" (99%), \"Sneaker\" (96%), і \"Ankle boot\" (97%).\n",
        "\n",
        "\n",
        "Класи \"Dress\" (87%) і \"Coat\" (84%), \"T-shirt/top\" (85%), \"Pullover\" (85%), також мають досить високий F1-рівень, але менший, ніж у попередніх.\n",
        "\n",
        "\n",
        "Клас \"Shirt\" (72%) має менший F1-рівень, що свідчить про те, що модель не так ефективно розпізнає цей клас.\n",
        "\n",
        "\n",
        "#Загальний висновок:\n",
        "\n",
        "Загальна точність моделі на тестовому наборі становить 90%, що є досить хорошим результатом.\n",
        "\n",
        "Узагальнюючи, модель досягла досить хороших результатів на датасеті Fashion MNIST, з загальною точністю близько 90%. Проте загальна точність даної моделі трохи менша за попередню.\n",
        "\n",
        "Деякі класи дана модель розпізнає краще за попередню, деякі гірше, але вцілому точність знаходиться приблизно на однаковому рівні.\n",
        "\n",
        "Думаю точність можна покращити за рахунок підбору кількості шарів, їх типів та кількості нейронів."
      ],
      "metadata": {
        "id": "EUD3uXCnKQke"
      }
    }
  ]
}